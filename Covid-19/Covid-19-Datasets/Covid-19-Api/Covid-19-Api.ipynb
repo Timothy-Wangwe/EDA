{
 "cells": [
  {
   "cell_type": "markdown",
   "metadata": {},
   "source": [
    "#### Timothy Wangwe"
   ]
  },
  {
   "cell_type": "code",
   "execution_count": 1,
   "metadata": {},
   "outputs": [],
   "source": [
    "# Add module to system path\n",
    "import sys\n",
    "sys.path.append(\"../\")"
   ]
  },
  {
   "cell_type": "code",
   "execution_count": 2,
   "metadata": {},
   "outputs": [],
   "source": [
    "# Import 3rd party libraries\n",
    "import urllib.request\n",
    "import json\n",
    "import pandas as pd\n",
    "from datetime import datetime\n",
    "import time\n",
    "from AutoGit import auto"
   ]
  },
  {
   "cell_type": "code",
   "execution_count": 3,
   "metadata": {},
   "outputs": [],
   "source": [
    "# Fetch data from api"
   ]
  },
  {
   "cell_type": "code",
   "execution_count": 4,
   "metadata": {},
   "outputs": [],
   "source": [
    "url = 'https://api.covid19api.com/summary'"
   ]
  },
  {
   "cell_type": "code",
   "execution_count": 5,
   "metadata": {},
   "outputs": [
    {
     "output_type": "execute_result",
     "data": {
      "text/plain": "<http.client.HTTPResponse at 0x7fa05f3f71d0>"
     },
     "metadata": {},
     "execution_count": 5
    }
   ],
   "source": [
    "JsonObj = urllib.request.urlopen(url)\n",
    "JsonObj"
   ]
  },
  {
   "cell_type": "code",
   "execution_count": 6,
   "metadata": {},
   "outputs": [],
   "source": [
    "Obj = json.load(JsonObj)"
   ]
  },
  {
   "cell_type": "code",
   "execution_count": 7,
   "metadata": {},
   "outputs": [],
   "source": [
    "# Iterate though, filter and save data"
   ]
  },
  {
   "cell_type": "code",
   "execution_count": 8,
   "metadata": {},
   "outputs": [],
   "source": [
    "Countries = []\n",
    "Cases = []\n",
    "nCases = []\n",
    "Deaths = []\n",
    "nDeaths = []\n",
    "Recoveries = []\n",
    "nRecoveries = []"
   ]
  },
  {
   "cell_type": "code",
   "execution_count": 9,
   "metadata": {},
   "outputs": [],
   "source": [
    "for item in Obj['Countries']:\n",
    "    Countries.append(item['Country'])\n",
    "    Cases.append(item['TotalConfirmed'])\n",
    "    nCases.append(item['NewConfirmed'])\n",
    "    Deaths.append(item['TotalDeaths'])\n",
    "    nDeaths.append(item['NewDeaths'])\n",
    "    Recoveries.append(item['TotalRecovered'])\n",
    "    nRecoveries.append(item['NewRecovered'])"
   ]
  },
  {
   "cell_type": "code",
   "execution_count": 11,
   "metadata": {},
   "outputs": [
    {
     "output_type": "execute_result",
     "data": {
      "text/plain": "           Countries  Total Cases  New Cases  Total Deaths  New Deaths  \\\n0  ALA Aland Islands            0          0             0           0   \n1        Afghanistan          423         56            14           3   \n2            Albania          383          6            22           1   \n3            Algeria         1468         45           193          20   \n4     American Samoa            0          0             0           0   \n\n   Total Recoveries  New Recoveries  \n0                 0               0  \n1                18               0  \n2               131              15  \n3               113              23  \n4                 0               0  ",
      "text/html": "<div>\n<style scoped>\n    .dataframe tbody tr th:only-of-type {\n        vertical-align: middle;\n    }\n\n    .dataframe tbody tr th {\n        vertical-align: top;\n    }\n\n    .dataframe thead th {\n        text-align: right;\n    }\n</style>\n<table border=\"1\" class=\"dataframe\">\n  <thead>\n    <tr style=\"text-align: right;\">\n      <th></th>\n      <th>Countries</th>\n      <th>Total Cases</th>\n      <th>New Cases</th>\n      <th>Total Deaths</th>\n      <th>New Deaths</th>\n      <th>Total Recoveries</th>\n      <th>New Recoveries</th>\n    </tr>\n  </thead>\n  <tbody>\n    <tr>\n      <th>0</th>\n      <td>ALA Aland Islands</td>\n      <td>0</td>\n      <td>0</td>\n      <td>0</td>\n      <td>0</td>\n      <td>0</td>\n      <td>0</td>\n    </tr>\n    <tr>\n      <th>1</th>\n      <td>Afghanistan</td>\n      <td>423</td>\n      <td>56</td>\n      <td>14</td>\n      <td>3</td>\n      <td>18</td>\n      <td>0</td>\n    </tr>\n    <tr>\n      <th>2</th>\n      <td>Albania</td>\n      <td>383</td>\n      <td>6</td>\n      <td>22</td>\n      <td>1</td>\n      <td>131</td>\n      <td>15</td>\n    </tr>\n    <tr>\n      <th>3</th>\n      <td>Algeria</td>\n      <td>1468</td>\n      <td>45</td>\n      <td>193</td>\n      <td>20</td>\n      <td>113</td>\n      <td>23</td>\n    </tr>\n    <tr>\n      <th>4</th>\n      <td>American Samoa</td>\n      <td>0</td>\n      <td>0</td>\n      <td>0</td>\n      <td>0</td>\n      <td>0</td>\n      <td>0</td>\n    </tr>\n  </tbody>\n</table>\n</div>"
     },
     "metadata": {},
     "execution_count": 11
    }
   ],
   "source": [
    "# Create a pandas dataframe\n",
    "DataLib = {\n",
    "    \"Countries\" : Countries,\n",
    "    \"Total Cases\" : Cases,\n",
    "    \"New Cases\" : nCases,\n",
    "    \"Total Deaths\" : Deaths,\n",
    "    \"New Deaths\" : nDeaths,\n",
    "    \"Total Recoveries\" : Recoveries,\n",
    "    \"New Recoveries\" : nRecoveries\n",
    "}\n",
    "\n",
    "cols = DataLib.keys()\n",
    "\n",
    "data = pd.DataFrame(DataLib, columns = cols)\n",
    "data.head()"
   ]
  },
  {
   "cell_type": "code",
   "execution_count": 18,
   "metadata": {},
   "outputs": [],
   "source": [
    "# Save to csv file as current date\n",
    "date = datetime.now().strftime(\"%d-%b-%Y\")\n",
    "data.to_csv(f'../Covid-19-Api/Datasets/{date}.csv')"
   ]
  },
  {
   "cell_type": "code",
   "execution_count": 20,
   "metadata": {},
   "outputs": [],
   "source": [
    " # Save last update time to a folder\n",
    "now = datetime.now().strftime(\"%H:%M:%S on %dth of %B 2020\")\n",
    "file = open(\"../Covid-19-Api/Datasets/Readme.md\", \"w\")\n",
    "file.write(f'File automatically updated at {now}.')\n",
    "file.close()"
   ]
  },
  {
   "cell_type": "code",
   "execution_count": 21,
   "metadata": {},
   "outputs": [],
   "source": [
    "# Commit Changes\n",
    "auto.git()"
   ]
  },
  {
   "cell_type": "code",
   "execution_count": null,
   "metadata": {},
   "outputs": [],
   "source": []
  }
 ],
 "metadata": {
  "kernelspec": {
   "display_name": "Python 3.7.5 64-bit ('ds': venv)",
   "language": "python",
   "name": "python37564bitdsvenv7f769053fa4943f085b819bad569cbc2"
  },
  "language_info": {
   "codemirror_mode": {
    "name": "ipython",
    "version": 3
   },
   "file_extension": ".py",
   "mimetype": "text/x-python",
   "name": "python",
   "nbconvert_exporter": "python",
   "pygments_lexer": "ipython3",
   "version": "3.7.5-final"
  }
 },
 "nbformat": 4,
 "nbformat_minor": 4
}