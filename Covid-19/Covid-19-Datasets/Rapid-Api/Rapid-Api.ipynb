{
 "nbformat": 4,
 "nbformat_minor": 2,
 "metadata": {
  "language_info": {
   "name": "python",
   "codemirror_mode": {
    "name": "ipython",
    "version": 3
   },
   "version": "3.7.5-final"
  },
  "orig_nbformat": 2,
  "file_extension": ".py",
  "mimetype": "text/x-python",
  "name": "python",
  "npconvert_exporter": "python",
  "pygments_lexer": "ipython3",
  "version": 3,
  "kernelspec": {
   "name": "python37564bitdsvenv7f769053fa4943f085b819bad569cbc2",
   "display_name": "Python 3.7.5 64-bit ('ds': venv)"
  }
 },
 "cells": [
  {
   "cell_type": "code",
   "execution_count": 15,
   "metadata": {},
   "outputs": [],
   "source": [
    "# Import 3rd party libraries\n",
    "import requests\n",
    "import json\n",
    "import pandas as pd\n",
    "from datetime import datetime"
   ]
  },
  {
   "cell_type": "code",
   "execution_count": 16,
   "metadata": {},
   "outputs": [],
   "source": [
    "# Query variables\n",
    "url = \"https://covid-19-coronavirus-statistics.p.rapidapi.com/v1/stats\"\n",
    "\n",
    "headers = {\n",
    "    'x-rapidapi-host': \"covid-19-coronavirus-statistics.p.rapidapi.com\",\n",
    "    'x-rapidapi-key': \"57bdaf5951msh73fe5a1984eb5aap1abfc3jsn0f16dc4823bd\"\n",
    "    }"
   ]
  },
  {
   "cell_type": "code",
   "execution_count": 21,
   "metadata": {
    "tags": [
     "outputPrepend"
    ]
   },
   "outputs": [
    {
     "output_type": "stream",
     "name": "stdout",
     "text": "<Response [200]>\n"
    }
   ],
   "source": [
    "# Send request\n",
    "response = requests.request(\"GET\", url, headers = headers)\n",
    "print(response)"
   ]
  },
  {
   "cell_type": "code",
   "execution_count": 23,
   "metadata": {},
   "outputs": [
    {
     "output_type": "error",
     "ename": "TypeError",
     "evalue": "'Response' object is not subscriptable",
     "traceback": [
      "\u001b[0;31m---------------------------------------------------------------------------\u001b[0m",
      "\u001b[0;31mTypeError\u001b[0m                                 Traceback (most recent call last)",
      "\u001b[0;32m<ipython-input-23-2bd0a72825ba>\u001b[0m in \u001b[0;36m<module>\u001b[0;34m\u001b[0m\n\u001b[0;32m----> 1\u001b[0;31m \u001b[0mresponse\u001b[0m\u001b[0;34m[\u001b[0m\u001b[0;34m'Countries'\u001b[0m\u001b[0;34m]\u001b[0m\u001b[0;34m\u001b[0m\u001b[0;34m\u001b[0m\u001b[0m\n\u001b[0m",
      "\u001b[0;31mTypeError\u001b[0m: 'Response' object is not subscriptable"
     ]
    }
   ],
   "source": [
    "response['Countries']"
   ]
  },
  {
   "cell_type": "code",
   "execution_count": 24,
   "metadata": {},
   "outputs": [
    {
     "output_type": "stream",
     "name": "stdout",
     "text": "{\"error\":false,\"statusCode\":200,\"message\":\"OK\",\"data\":{\"lastChecked\":\"2020-04-05T17:06:20.781Z\",\"covid19Stats\":[{\"city\":\"\",\"province\":\"Alberta\",\"country\":\"Canada\",\"lastUpdate\":\"2020-04-04 23:40:46\",\"keyId\":\"Alberta, Canada\",\"confirmed\":1075,\"deaths\":18,\"recovered\":0},{\"city\":\"\",\"province\":\"British Columbia\",\"country\":\"Canada\",\"lastUpdate\":\"2020-04-04 23:40:46\",\"keyId\":\"British Columbia, Canada\",\"confirmed\":1203,\"deaths\":38,\"recovered\":0},{\"city\":\"\",\"province\":\"Diamond Princess\",\"country\":\"Canada\",\"lastUpdate\":\"2020-04-04 23:40:46\",\"keyId\":\"Diamond Princess, Canada\",\"confirmed\":0,\"deaths\":1,\"recovered\":0},{\"city\":\"\",\"province\":\"Grand Princess\",\"country\":\"Canada\",\"lastUpdate\":\"2020-04-04 23:40:46\",\"keyId\":\"Grand Princess, Canada\",\"confirmed\":13,\"deaths\":0,\"recovered\":0},{\"city\":\"\",\"province\":\"Manitoba\",\"country\":\"Canada\",\"lastUpdate\":\"2020-04-04 23:40:46\",\"keyId\":\"Manitoba, Canada\",\"confirmed\":182,\"deaths\":2,\"recovered\":0},{\"city\":\"\",\"province\":\"New Brunswick\",\"country\":\"Canada\",\"lastUpdate\":\"2020-04-04 23:40:46\",\"keyId\":\"New Brunswick, Canada\",\"confirmed\":91,\"deaths\":0,\"recovered\":0},{\"city\":\"\",\"province\":\"Newfoundland and Labrador\",\"country\":\"Canada\",\"lastUpdate\":\"2020-04-04 23:40:46\",\"keyId\":\"Newfoundland and Labrador, Canada\",\"confirmed\":195,\"deaths\":1,\"recovered\":0},{\"city\":\"\",\"province\":\"Northwest Territories\",\"country\":\"Canada\",\"lastUpdate\":\"2020-04-04 23:40:46\",\"keyId\":\",Northwest Territories,Canada\",\"confirmed\":4,\"deaths\":0,\"recovered\":0},{\"city\":\"\",\"province\":\"Nova Scotia\",\"country\":\"Canada\",\"lastUpdate\":\"2020-04-04 23:40:46\",\"keyId\":\"Nova Scotia, Canada\",\"confirmed\":236,\"deaths\":0,\"recovered\":0},{\"city\":\"\",\"province\":\"Ontario\",\"country\":\"Canada\",\"lastUpdate\":\"2020-04-04 23:40:46\",\"keyId\":\"Ontario, Canada\",\"confirmed\":3630,\"deaths\":94,\"recovered\":0},{\"city\":\"\",\"province\":\"Prince Edward Island\",\"country\":\"Canada\",\"lastUpdate\":\"2020-04-04 23:40:46\",\"keyId\":\"Prince Edward Island, Canada\",\"confirmed\":22,\"deaths\":0,\"recovered\":0},{\"city\":\"\",\"province\":\"Quebec\",\"country\":\"Canada\",\"lastUpdate\":\"2020-04-04 23:40:46\",\"keyId\":\"Quebec, Canada\",\"confirmed\":6101,\"deaths\":61,\"recovered\":0},{\"city\":\"\",\"province\":\"Recovered\",\"country\":\"Canada\",\"lastUpdate\":\"2020-04-04 23:40:46\",\"keyId\":\"Recovered, Canada\",\"confirmed\":0,\"deaths\":0,\"recovered\":2577},{\"city\":\"\",\"province\":\"Saskatchewan\",\"country\":\"Canada\",\"lastUpdate\":\"2020-04-04 23:40:46\",\"keyId\":\"Saskatchewan, Canada\",\"confirmed\":220,\"deaths\":3,\"recovered\":0},{\"city\":\"\",\"province\":\"Yukon\",\"country\":\"Canada\",\"lastUpdate\":\"2020-04-04 23:40:46\",\"keyId\":\",Yukon,Canada\",\"confirmed\":6,\"deaths\":0,\"recovered\":0}]}}\n"
    }
   ],
   "source": [
    "import requests\n",
    "\n",
    "url = \"https://covid-19-coronavirus-statistics.p.rapidapi.com/v1/stats\"\n",
    "\n",
    "querystring = {\"country\":\"Canada\"}\n",
    "\n",
    "headers = {\n",
    "    'x-rapidapi-host': \"covid-19-coronavirus-statistics.p.rapidapi.com\",\n",
    "    'x-rapidapi-key': \"57bdaf5951msh73fe5a1984eb5aap1abfc3jsn0f16dc4823bd\"\n",
    "    }\n",
    "\n",
    "response = requests.request(\"GET\", url, headers=headers, params=querystring)\n",
    "\n",
    "print(response.text)"
   ]
  },
  {
   "cell_type": "code",
   "execution_count": 28,
   "metadata": {},
   "outputs": [
    {
     "output_type": "error",
     "ename": "TypeError",
     "evalue": "string indices must be integers",
     "traceback": [
      "\u001b[0;31m---------------------------------------------------------------------------\u001b[0m",
      "\u001b[0;31mTypeError\u001b[0m                                 Traceback (most recent call last)",
      "\u001b[0;32m<ipython-input-28-dc5669ecb1df>\u001b[0m in \u001b[0;36m<module>\u001b[0;34m\u001b[0m\n\u001b[0;32m----> 1\u001b[0;31m \u001b[0mresponse\u001b[0m\u001b[0;34m.\u001b[0m\u001b[0mtext\u001b[0m\u001b[0;34m[\u001b[0m\u001b[0;34m\"lastChecked\"\u001b[0m\u001b[0;34m]\u001b[0m\u001b[0;34m\u001b[0m\u001b[0;34m\u001b[0m\u001b[0m\n\u001b[0m",
      "\u001b[0;31mTypeError\u001b[0m: string indices must be integers"
     ]
    }
   ],
   "source": [
    "response.text[\"lastChecked\"]"
   ]
  },
  {
   "cell_type": "code",
   "execution_count": null,
   "metadata": {},
   "outputs": [],
   "source": []
  }
 ]
}