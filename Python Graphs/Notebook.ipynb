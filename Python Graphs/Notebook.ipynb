{
 "cells": [
  {
   "cell_type": "markdown",
   "metadata": {},
   "source": [
    "## Pie Charts"
   ]
  },
  {
   "cell_type": "code",
   "execution_count": 1,
   "metadata": {},
   "outputs": [],
   "source": [
    "import pandas as pd\n",
    "import matplotlib.pyplot as plt"
   ]
  },
  {
   "cell_type": "code",
   "execution_count": 2,
   "metadata": {},
   "outputs": [
    {
     "data": {
      "text/html": [
       "<div>\n",
       "<style scoped>\n",
       "    .dataframe tbody tr th:only-of-type {\n",
       "        vertical-align: middle;\n",
       "    }\n",
       "\n",
       "    .dataframe tbody tr th {\n",
       "        vertical-align: top;\n",
       "    }\n",
       "\n",
       "    .dataframe thead th {\n",
       "        text-align: right;\n",
       "    }\n",
       "</style>\n",
       "<table border=\"1\" class=\"dataframe\">\n",
       "  <thead>\n",
       "    <tr style=\"text-align: right;\">\n",
       "      <th></th>\n",
       "      <th>Countries</th>\n",
       "      <th>Total Cases</th>\n",
       "      <th>New Cases</th>\n",
       "      <th>Total Deaths</th>\n",
       "      <th>New Deaths</th>\n",
       "      <th>Total Recoveries</th>\n",
       "      <th>New Recoveries</th>\n",
       "    </tr>\n",
       "  </thead>\n",
       "  <tbody>\n",
       "    <tr>\n",
       "      <th>0</th>\n",
       "      <td>ALA Aland Islands</td>\n",
       "      <td>0</td>\n",
       "      <td>0</td>\n",
       "      <td>0</td>\n",
       "      <td>0</td>\n",
       "      <td>0</td>\n",
       "      <td>0</td>\n",
       "    </tr>\n",
       "    <tr>\n",
       "      <th>1</th>\n",
       "      <td>Afghanistan</td>\n",
       "      <td>665</td>\n",
       "      <td>58</td>\n",
       "      <td>21</td>\n",
       "      <td>3</td>\n",
       "      <td>32</td>\n",
       "      <td>0</td>\n",
       "    </tr>\n",
       "    <tr>\n",
       "      <th>2</th>\n",
       "      <td>Albania</td>\n",
       "      <td>467</td>\n",
       "      <td>21</td>\n",
       "      <td>23</td>\n",
       "      <td>0</td>\n",
       "      <td>232</td>\n",
       "      <td>15</td>\n",
       "    </tr>\n",
       "    <tr>\n",
       "      <th>3</th>\n",
       "      <td>Algeria</td>\n",
       "      <td>1983</td>\n",
       "      <td>69</td>\n",
       "      <td>313</td>\n",
       "      <td>20</td>\n",
       "      <td>601</td>\n",
       "      <td>10</td>\n",
       "    </tr>\n",
       "    <tr>\n",
       "      <th>4</th>\n",
       "      <td>American Samoa</td>\n",
       "      <td>0</td>\n",
       "      <td>0</td>\n",
       "      <td>0</td>\n",
       "      <td>0</td>\n",
       "      <td>0</td>\n",
       "      <td>0</td>\n",
       "    </tr>\n",
       "  </tbody>\n",
       "</table>\n",
       "</div>"
      ],
      "text/plain": [
       "           Countries  Total Cases  New Cases  Total Deaths  New Deaths  \\\n",
       "0  ALA Aland Islands            0          0             0           0   \n",
       "1        Afghanistan          665         58            21           3   \n",
       "2            Albania          467         21            23           0   \n",
       "3            Algeria         1983         69           313          20   \n",
       "4     American Samoa            0          0             0           0   \n",
       "\n",
       "   Total Recoveries  New Recoveries  \n",
       "0                 0               0  \n",
       "1                32               0  \n",
       "2               232              15  \n",
       "3               601              10  \n",
       "4                 0               0  "
      ]
     },
     "execution_count": 2,
     "metadata": {},
     "output_type": "execute_result"
    }
   ],
   "source": [
    "path = \"../../Covid-19-Datasets/Covid-19-Api/Datasets/15-Apr-2020.csv\"\n",
    "data = pd.read_csv(path, sep=',', index_col=0)\n",
    "data.head()"
   ]
  },
  {
   "cell_type": "markdown",
   "metadata": {},
   "source": [
    "#### Data Preparation"
   ]
  },
  {
   "cell_type": "code",
   "execution_count": 3,
   "metadata": {},
   "outputs": [],
   "source": [
    "TotalCases = data['Total Cases'].sum()\n",
    "TotalDeaths = data['Total Deaths'].sum()\n",
    "TotalRecoveries = data['Total Recoveries'].sum()\n",
    "\n",
    "df = pd.DataFrame([TotalCases,TotalDeaths,TotalRecoveries],\n",
    "    index = ['Total Cases', 'Total Deaths', 'Total Recoveries'])"
   ]
  },
  {
   "cell_type": "markdown",
   "metadata": {},
   "source": [
    "#### Visualisation"
   ]
  },
  {
   "cell_type": "code",
   "execution_count": 25,
   "metadata": {},
   "outputs": [
    {
     "data": {
      "image/png": "[encoded data removed]",
      "text/plain": [
       "<Figure size 432x432 with 1 Axes>"
      ]
     },
     "metadata": {},
     "output_type": "display_data"
    }
   ],
   "source": [
    "df.plot(kind='pie', subplots=True, figsize=(6, 6), autopct=\"%0.0f%%\", shadow=True, explode=(0,0.05,0.05))\n",
    "plt.title(\"Global Covid-19 Summary\", fontweight=\"bold\", color=\"green\", fontsize=\"16\")\n",
    "plt.suptitle(\"Wangwe\", size=8, weight=\"bold\", color=\"green\")\n",
    "plt.axis(\"off\")\n",
    "plt.legend(loc='best', bbox_to_anchor=(1, 0.75))\n",
    "plt.savefig(\"Images/Pie Chart\")"
   ]
  },
  {
   "cell_type": "code",
   "execution_count": null,
   "metadata": {},
   "outputs": [],
   "source": []
  }
 ],
 "metadata": {
  "kernelspec": {
   "display_name": "Python 3.7.5 64-bit ('ds': venv)",
   "language": "python",
   "name": "python37564bitdsvenv7f769053fa4943f085b819bad569cbc2"
  },
  "language_info": {
   "codemirror_mode": {
    "name": "ipython",
    "version": 3
   },
   "file_extension": ".py",
   "mimetype": "text/x-python",
   "name": "python",
   "nbconvert_exporter": "python",
   "pygments_lexer": "ipython3",
   "version": "3.7.5"
  }
 },
 "nbformat": 4,
 "nbformat_minor": 4
}
